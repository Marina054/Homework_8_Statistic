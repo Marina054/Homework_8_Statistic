{
 "cells": [
  {
   "cell_type": "markdown",
   "id": "3787ff28",
   "metadata": {},
   "source": [
    "Известно, что рост футболистов в сборной распределен нормально\n",
    "с дисперсией генеральной совокупности, равной 25 кв.см. Объем выборки равен 27,\n",
    "среднее выборочное составляет 174.2. Найдите доверительный интервал для математического\n",
    "ожидания с надежностью 0.95."
   ]
  },
  {
   "cell_type": "code",
   "execution_count": 1,
   "id": "e98553b3",
   "metadata": {},
   "outputs": [],
   "source": [
    "import numpy as np"
   ]
  },
  {
   "cell_type": "code",
   "execution_count": 10,
   "id": "0c0d18ea",
   "metadata": {},
   "outputs": [],
   "source": [
    "x = 174.2\n",
    "n = 27\n",
    "sig = np.sqrt(25)\n",
    "z = 1.96"
   ]
  },
  {
   "cell_type": "code",
   "execution_count": 11,
   "id": "6d78a115",
   "metadata": {},
   "outputs": [
    {
     "data": {
      "text/plain": [
       "172.31398912064722"
      ]
     },
     "execution_count": 11,
     "metadata": {},
     "output_type": "execute_result"
    }
   ],
   "source": [
    "x - (z * (sig / np.sqrt(n)))"
   ]
  },
  {
   "cell_type": "code",
   "execution_count": 12,
   "id": "ce1f8fc2",
   "metadata": {},
   "outputs": [
    {
     "data": {
      "text/plain": [
       "176.08601087935276"
      ]
     },
     "execution_count": 12,
     "metadata": {},
     "output_type": "execute_result"
    }
   ],
   "source": [
    "x + (z * (sig / np.sqrt(n)))"
   ]
  },
  {
   "cell_type": "markdown",
   "id": "93724b86",
   "metadata": {},
   "source": [
    "[172.31; 176.09]"
   ]
  },
  {
   "cell_type": "code",
   "execution_count": null,
   "id": "397e060d",
   "metadata": {},
   "outputs": [],
   "source": []
  }
 ],
 "metadata": {
  "kernelspec": {
   "display_name": "Python 3 (ipykernel)",
   "language": "python",
   "name": "python3"
  },
  "language_info": {
   "codemirror_mode": {
    "name": "ipython",
    "version": 3
   },
   "file_extension": ".py",
   "mimetype": "text/x-python",
   "name": "python",
   "nbconvert_exporter": "python",
   "pygments_lexer": "ipython3",
   "version": "3.9.13"
  }
 },
 "nbformat": 4,
 "nbformat_minor": 5
}
